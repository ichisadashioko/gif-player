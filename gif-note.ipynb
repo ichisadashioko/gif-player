{
 "cells": [
  {
   "cell_type": "code",
   "execution_count": 1,
   "metadata": {},
   "outputs": [],
   "source": [
    "import os\n",
    "import time\n",
    "import io\n",
    "import struct\n",
    "import sys\n",
    "import math"
   ]
  },
  {
   "cell_type": "code",
   "execution_count": null,
   "metadata": {},
   "outputs": [],
   "source": [
    "import numpy as np\n",
    "import matplotlib.pyplot as plt"
   ]
  },
  {
   "cell_type": "code",
   "execution_count": 3,
   "metadata": {},
   "outputs": [
    {
     "data": {
      "text/plain": [
       "True"
      ]
     },
     "execution_count": 3,
     "metadata": {},
     "output_type": "execute_result"
    }
   ],
   "source": [
    "# infile = 'giphy.gif'\n",
    "infile = 'sample_1.gif'\n",
    "os.path.exists(infile)"
   ]
  },
  {
   "cell_type": "code",
   "execution_count": 4,
   "metadata": {},
   "outputs": [],
   "source": [
    "file_obj = open(infile, mode='rb')"
   ]
  },
  {
   "cell_type": "code",
   "execution_count": 5,
   "metadata": {},
   "outputs": [],
   "source": [
    "# file_obj.close()"
   ]
  },
  {
   "cell_type": "markdown",
   "metadata": {},
   "source": [
    "# Compare signature"
   ]
  },
  {
   "cell_type": "code",
   "execution_count": 6,
   "metadata": {},
   "outputs": [
    {
     "data": {
      "text/plain": [
       "b'GIF89a'"
      ]
     },
     "execution_count": 6,
     "metadata": {},
     "output_type": "execute_result"
    }
   ],
   "source": [
    "sig = file_obj.read(6)\n",
    "sig"
   ]
  },
  {
   "cell_type": "code",
   "execution_count": 7,
   "metadata": {},
   "outputs": [
    {
     "data": {
      "text/plain": [
       "6"
      ]
     },
     "execution_count": 7,
     "metadata": {},
     "output_type": "execute_result"
    }
   ],
   "source": [
    "len(sig)"
   ]
  },
  {
   "cell_type": "code",
   "execution_count": 8,
   "metadata": {},
   "outputs": [
    {
     "data": {
      "text/plain": [
       "bytes"
      ]
     },
     "execution_count": 8,
     "metadata": {},
     "output_type": "execute_result"
    }
   ],
   "source": [
    "type(sig)"
   ]
  },
  {
   "cell_type": "code",
   "execution_count": 9,
   "metadata": {},
   "outputs": [],
   "source": [
    "gif87a_sig = b'GIF87a'\n",
    "gif89a_sig = b'GIF89a'"
   ]
  },
  {
   "cell_type": "code",
   "execution_count": 10,
   "metadata": {},
   "outputs": [
    {
     "name": "stdout",
     "output_type": "stream",
     "text": [
      "Hi b'GIF89a'\n"
     ]
    }
   ],
   "source": [
    "msg = f'Hi {str(gif89a_sig)}'\n",
    "print(msg)"
   ]
  },
  {
   "cell_type": "code",
   "execution_count": 11,
   "metadata": {},
   "outputs": [
    {
     "data": {
      "text/plain": [
       "bytes"
      ]
     },
     "execution_count": 11,
     "metadata": {},
     "output_type": "execute_result"
    }
   ],
   "source": [
    "type(gif89a_sig)"
   ]
  },
  {
   "cell_type": "code",
   "execution_count": 12,
   "metadata": {},
   "outputs": [
    {
     "data": {
      "text/plain": [
       "b'GIF89a'"
      ]
     },
     "execution_count": 12,
     "metadata": {},
     "output_type": "execute_result"
    }
   ],
   "source": [
    "gif89a_sig"
   ]
  },
  {
   "cell_type": "code",
   "execution_count": 13,
   "metadata": {},
   "outputs": [
    {
     "data": {
      "text/plain": [
       "True"
      ]
     },
     "execution_count": 13,
     "metadata": {},
     "output_type": "execute_result"
    }
   ],
   "source": [
    "sig == gif89a_sig"
   ]
  },
  {
   "cell_type": "code",
   "execution_count": 14,
   "metadata": {},
   "outputs": [
    {
     "data": {
      "text/plain": [
       "False"
      ]
     },
     "execution_count": 14,
     "metadata": {},
     "output_type": "execute_result"
    }
   ],
   "source": [
    "sig == gif87a_sig"
   ]
  },
  {
   "cell_type": "markdown",
   "metadata": {},
   "source": [
    "# Screen Descriptor"
   ]
  },
  {
   "cell_type": "code",
   "execution_count": 15,
   "metadata": {},
   "outputs": [],
   "source": [
    "screen_desc = file_obj.read(7)"
   ]
  },
  {
   "cell_type": "code",
   "execution_count": 16,
   "metadata": {},
   "outputs": [
    {
     "data": {
      "text/plain": [
       "7"
      ]
     },
     "execution_count": 16,
     "metadata": {},
     "output_type": "execute_result"
    }
   ],
   "source": [
    "len(screen_desc)"
   ]
  },
  {
   "cell_type": "code",
   "execution_count": 17,
   "metadata": {},
   "outputs": [
    {
     "data": {
      "text/plain": [
       "bytes"
      ]
     },
     "execution_count": 17,
     "metadata": {},
     "output_type": "execute_result"
    }
   ],
   "source": [
    "type(screen_desc)"
   ]
  },
  {
   "cell_type": "code",
   "execution_count": 18,
   "metadata": {},
   "outputs": [],
   "source": [
    "width = struct.unpack('<h', screen_desc[0:2])[0]\n",
    "height = struct.unpack('<h', screen_desc[2:4])[0]\n",
    "packed_field = screen_desc[4]\n",
    "background_color_index = screen_desc[5]\n",
    "# Pixel Aspect Ratio is normal not used because we've known the width and height.\n",
    "# pixel_aspect_ratio = screen_desc[6]"
   ]
  },
  {
   "cell_type": "markdown",
   "metadata": {},
   "source": [
    "## unpack Packed Fields"
   ]
  },
  {
   "cell_type": "code",
   "execution_count": 19,
   "metadata": {},
   "outputs": [
    {
     "data": {
      "text/plain": [
       "145"
      ]
     },
     "execution_count": 19,
     "metadata": {},
     "output_type": "execute_result"
    }
   ],
   "source": [
    "packed_field"
   ]
  },
  {
   "cell_type": "code",
   "execution_count": 20,
   "metadata": {},
   "outputs": [
    {
     "data": {
      "text/plain": [
       "int"
      ]
     },
     "execution_count": 20,
     "metadata": {},
     "output_type": "execute_result"
    }
   ],
   "source": [
    "type(packed_field)"
   ]
  },
  {
   "cell_type": "code",
   "execution_count": 21,
   "metadata": {},
   "outputs": [
    {
     "data": {
      "text/plain": [
       "'0b10010001'"
      ]
     },
     "execution_count": 21,
     "metadata": {},
     "output_type": "execute_result"
    }
   ],
   "source": [
    "bin(packed_field)"
   ]
  },
  {
   "cell_type": "code",
   "execution_count": 22,
   "metadata": {},
   "outputs": [
    {
     "data": {
      "text/plain": [
       "(1, '0b1')"
      ]
     },
     "execution_count": 22,
     "metadata": {},
     "output_type": "execute_result"
    }
   ],
   "source": [
    "global_color_table_flag = (packed_field & 0b10000000) >> 7\n",
    "global_color_table_flag, bin(global_color_table_flag)"
   ]
  },
  {
   "cell_type": "markdown",
   "metadata": {},
   "source": [
    "> Color Resolution - Number of bits per primary color available to the original image, minus 1.\n",
    "\n",
    "I think that means the number of bits to store a color. E.g. true color (RGB) requires 24 bits (3 bytes). Yeah, it makes no sense to me right now because the maximum value for this field is 7 (3 bits all 1).\n",
    "\n",
    "> This value represents the size of the entire palette from which the colors in the graphic were selected, not the number of colors actually used in the graphic.\n",
    "\n",
    "I still have no sense what the specification is talking about. The maximum value for this field is 7 so the maximum size of the palette is 7 something?\n",
    "\n",
    "> For example, if the value in this field is 3, then the palette of the original image had 4 bits per primary color available to create the image.\n",
    "\n",
    "Now I am noticing the specification is meaning about `original image`. Are there multiple images out there we need to care about outside the image this GIF file is storing? Even you raise the maximum value to 8, we can't still store a RGB color format in 8 bits.\n",
    "\n",
    "> This value should be set to indicate the richness of the original palette, even if not every color from the whole palette is available on the source machine.\n",
    "\n",
    "No, that does help at all. Specification!!!"
   ]
  },
  {
   "cell_type": "code",
   "execution_count": 23,
   "metadata": {},
   "outputs": [
    {
     "data": {
      "text/plain": [
       "(1, '0b1')"
      ]
     },
     "execution_count": 23,
     "metadata": {},
     "output_type": "execute_result"
    }
   ],
   "source": [
    "color_resolution = (packed_field & 0b01110000) >> 4\n",
    "color_resolution, bin(color_resolution)"
   ]
  },
  {
   "cell_type": "markdown",
   "metadata": {},
   "source": [
    "> Sort Flag - Indicates whether the Global Color Table is sorted.\n",
    "\n",
    "Simple enough.\n",
    "\n",
    "> If the flag is set, the Global Color Table is sorted, in order of decreasing importance. Typically, the order would be descreasing frequency, with most frequent color first. This assists a decoder, with fewer available colors, in choosing the best subset of colors; the decoder may use an initial segment of the table to render the graphic.\n",
    "\n",
    "Yeah, I think I got that."
   ]
  },
  {
   "cell_type": "code",
   "execution_count": 24,
   "metadata": {},
   "outputs": [
    {
     "data": {
      "text/plain": [
       "(0, '0b0')"
      ]
     },
     "execution_count": 24,
     "metadata": {},
     "output_type": "execute_result"
    }
   ],
   "source": [
    "sort_flag = (packed_field & 0b00001000) >> 3\n",
    "sort_flag, bin(sort_flag)"
   ]
  },
  {
   "cell_type": "markdown",
   "metadata": {},
   "source": [
    "> Size of Global Color Table - If the Global Color Table Flag is set to 1, the value in this field is used to calculate the number of bytes contained in the Global Color Table. To determine that actual size of the color table, raise 2 to [the value of the field + 1].\n",
    "\n",
    "The size of global table is `(field_value + 1) * 2)` bytes, isn't it? So the maximum size for global palette is 16 bytes. Huh, 16 colors or 16 bytes to store color values?\n",
    "\n",
    "> Even if there is not Global Color Table specified, set this field according to the above formula so that decoders can choose the best graphics mode to display the stream in.\n",
    "\n",
    "How the size of the palette related to the graphics mode?"
   ]
  },
  {
   "cell_type": "code",
   "execution_count": 25,
   "metadata": {},
   "outputs": [
    {
     "data": {
      "text/plain": [
       "(1, '0b1')"
      ]
     },
     "execution_count": 25,
     "metadata": {},
     "output_type": "execute_result"
    }
   ],
   "source": [
    "global_color_table_size = (packed_field & 0b00000111) >> 0\n",
    "global_color_table_size, bin(global_color_table_size)"
   ]
  },
  {
   "cell_type": "code",
   "execution_count": 26,
   "metadata": {},
   "outputs": [
    {
     "data": {
      "text/plain": [
       "12"
      ]
     },
     "execution_count": 26,
     "metadata": {},
     "output_type": "execute_result"
    }
   ],
   "source": [
    "global_palette_num_bytes = 3 * (2**(global_color_table_size+1))\n",
    "global_palette_num_bytes"
   ]
  },
  {
   "cell_type": "markdown",
   "metadata": {},
   "source": [
    "# Global palette (if the flag is set)"
   ]
  },
  {
   "cell_type": "code",
   "execution_count": 27,
   "metadata": {},
   "outputs": [
    {
     "data": {
      "text/plain": [
       "12"
      ]
     },
     "execution_count": 27,
     "metadata": {},
     "output_type": "execute_result"
    }
   ],
   "source": [
    "global_palette_data = file_obj.read(global_palette_num_bytes)\n",
    "len(global_palette_data)"
   ]
  },
  {
   "cell_type": "code",
   "execution_count": 28,
   "metadata": {},
   "outputs": [
    {
     "data": {
      "text/plain": [
       "255"
      ]
     },
     "execution_count": 28,
     "metadata": {},
     "output_type": "execute_result"
    }
   ],
   "source": [
    "global_palette_data[0]"
   ]
  },
  {
   "cell_type": "code",
   "execution_count": 29,
   "metadata": {},
   "outputs": [
    {
     "data": {
      "text/plain": [
       "4"
      ]
     },
     "execution_count": 29,
     "metadata": {},
     "output_type": "execute_result"
    }
   ],
   "source": [
    "global_palette = [[*global_palette_data[i:i+3]] for i in range(0, len(global_palette_data), 3)]\n",
    "len(global_palette)"
   ]
  },
  {
   "cell_type": "code",
   "execution_count": 30,
   "metadata": {},
   "outputs": [
    {
     "data": {
      "text/plain": [
       "[[255, 255, 255], [255, 0, 0], [0, 0, 255], [0, 0, 0]]"
      ]
     },
     "execution_count": 30,
     "metadata": {},
     "output_type": "execute_result"
    }
   ],
   "source": [
    "global_palette"
   ]
  },
  {
   "cell_type": "code",
   "execution_count": 31,
   "metadata": {},
   "outputs": [],
   "source": [
    "def show_palette(palette):\n",
    "    palette_width = 16\n",
    "    \n",
    "    image = []\n",
    "    row = []\n",
    "    for i, rgb in enumerate(palette):\n",
    "        row.append(rgb)\n",
    "        \n",
    "        if (i > 0) and ((i+1) % palette_width == 0):\n",
    "            image.append(row)\n",
    "            row = []\n",
    "#     print(image)\n",
    "#     print(len(image))\n",
    "    plt.imshow(image)\n",
    "    plt.show()"
   ]
  },
  {
   "cell_type": "code",
   "execution_count": 32,
   "metadata": {},
   "outputs": [],
   "source": [
    "# show_palette(global_palette)"
   ]
  },
  {
   "cell_type": "markdown",
   "metadata": {},
   "source": [
    "# Next is unknown block type"
   ]
  },
  {
   "cell_type": "markdown",
   "metadata": {},
   "source": [
    "Read the first byte to identify which type of block"
   ]
  },
  {
   "cell_type": "code",
   "execution_count": 33,
   "metadata": {},
   "outputs": [
    {
     "data": {
      "text/plain": [
       "(33, '0x21', '0b100001')"
      ]
     },
     "execution_count": 33,
     "metadata": {},
     "output_type": "execute_result"
    }
   ],
   "source": [
    "block_identifier = file_obj.read(1)[0]\n",
    "block_identifier, hex(block_identifier), bin(block_identifier)"
   ]
  },
  {
   "cell_type": "code",
   "execution_count": 2,
   "metadata": {},
   "outputs": [],
   "source": [
    "from decoder import GIF"
   ]
  },
  {
   "cell_type": "code",
   "execution_count": 3,
   "metadata": {
    "scrolled": true
   },
   "outputs": [
    {
     "name": "stdout",
     "output_type": "stream",
     "text": [
      "Starting to parse GraphicControlExtension at 25.\n",
      "Starting to parse ImageDescriptorBlock at 33.\n",
      "data type: <class 'bytes'>\n"
     ]
    }
   ],
   "source": [
    "infile = 'sample_1.gif'\n",
    "file_obj = open(infile, mode='rb')\n",
    "gif = GIF(file_obj)"
   ]
  },
  {
   "cell_type": "code",
   "execution_count": 4,
   "metadata": {},
   "outputs": [
    {
     "data": {
      "text/plain": [
       "[<graphicblock.GraphicControlExtension at 0x16e31eeb408>,\n",
       " <imageblock.ImageDescriptorBlock at 0x16e33e72108>]"
      ]
     },
     "execution_count": 4,
     "metadata": {},
     "output_type": "execute_result"
    }
   ],
   "source": [
    "gif.blocks"
   ]
  },
  {
   "cell_type": "code",
   "execution_count": 5,
   "metadata": {},
   "outputs": [],
   "source": [
    "img_block = gif.blocks[1]"
   ]
  },
  {
   "cell_type": "code",
   "execution_count": 18,
   "metadata": {},
   "outputs": [],
   "source": [
    "code_stream = []\n",
    "\n",
    "remain_bits_from_current_byte = 0\n",
    "num_bits = img_block.lzw_min_code_size + 1\n",
    "remain_bits_for_this_value = num_bits\n",
    "\n",
    "clear_code = 2 ** img_block.lzw_min_code_size\n",
    "eoi_code = clear_code + 1\n",
    "\n",
    "# index for compressed stream\n",
    "i = 0"
   ]
  },
  {
   "cell_type": "code",
   "execution_count": 36,
   "metadata": {},
   "outputs": [
    {
     "name": "stdout",
     "output_type": "stream",
     "text": [
      "0 3\n"
     ]
    }
   ],
   "source": [
    "value = 0\n",
    "remain_bits_for_this_value = num_bits\n",
    "print(value, remain_bits_for_this_value)"
   ]
  },
  {
   "cell_type": "code",
   "execution_count": 37,
   "metadata": {},
   "outputs": [
    {
     "name": "stdout",
     "output_type": "stream",
     "text": [
      "1 0 0b0 2\n"
     ]
    }
   ],
   "source": [
    "if remain_bits_from_current_byte == 0:\n",
    "    b = img_block.compressed_data[i]\n",
    "    remain_bits_from_current_byte = 8\n",
    "    i += 1\n",
    "print(i, b, bin(b), remain_bits_from_current_byte)"
   ]
  },
  {
   "cell_type": "code",
   "execution_count": 38,
   "metadata": {},
   "outputs": [
    {
     "name": "stdout",
     "output_type": "stream",
     "text": [
      "0 3 2\n",
      "0 1 0\n"
     ]
    }
   ],
   "source": [
    "if remain_bits_for_this_value >= remain_bits_from_current_byte:\n",
    "    print(value, remain_bits_for_this_value, remain_bits_from_current_byte)\n",
    "\n",
    "    value = value << (num_bits - remain_bits_for_this_value)\n",
    "    value += b\n",
    "    remain_bits_for_this_value -= remain_bits_from_current_byte\n",
    "    remain_bits_from_current_byte = 0\n",
    "    \n",
    "    print(value, remain_bits_for_this_value, remain_bits_from_current_byte)\n",
    "else:\n",
    "    print(value, remain_bits_for_this_value, remain_bits_from_current_byte)\n",
    "\n",
    "    value = value << (num_bits - remain_bits_for_this_value)\n",
    "    temp_value = b >> (remain_bits_from_current_byte - remain_bits_for_this_value)\n",
    "    value += temp_value\n",
    "    remain_bits_from_current_byte -= remain_bits_for_this_value\n",
    "    remain_bits_for_this_value = 0\n",
    "    \n",
    "    print(value, remain_bits_for_this_value, remain_bits_from_current_byte)"
   ]
  },
  {
   "cell_type": "code",
   "execution_count": 34,
   "metadata": {},
   "outputs": [
    {
     "name": "stdout",
     "output_type": "stream",
     "text": [
      "12 0b1100\n",
      "768 0b1100000000\n",
      "0 0b0\n",
      "0 0b0\n"
     ]
    }
   ],
   "source": [
    "# subtract value from b\n",
    "print(b, bin(b))\n",
    "b = b << (8 - remain_bits_from_current_byte)\n",
    "print(b, bin(b))\n",
    "b = b & 0xff\n",
    "print(b, bin(b))\n",
    "b = b >> (8 - remain_bits_from_current_byte)\n",
    "print(b, bin(b))"
   ]
  },
  {
   "cell_type": "code",
   "execution_count": 35,
   "metadata": {},
   "outputs": [
    {
     "name": "stdout",
     "output_type": "stream",
     "text": [
      "3\n",
      "[4, 3]\n"
     ]
    }
   ],
   "source": [
    "print(value)\n",
    "if value == (2**(num_bits) - 1):\n",
    "    num_bits += 1\n",
    "    print(num_bits)\n",
    "code_stream.append(value)\n",
    "print(code_stream)"
   ]
  },
  {
   "cell_type": "code",
   "execution_count": 30,
   "metadata": {},
   "outputs": [
    {
     "data": {
      "text/plain": [
       "False"
      ]
     },
     "execution_count": 30,
     "metadata": {},
     "output_type": "execute_result"
    }
   ],
   "source": [
    "value == eoi_code"
   ]
  },
  {
   "cell_type": "markdown",
   "metadata": {},
   "source": [
    "The compressed image data is stored in bits. The LZW minimum code size helps to indicate how many bits does the first value take (min code size + 1 bits)."
   ]
  },
  {
   "cell_type": "markdown",
   "metadata": {},
   "source": [
    "How do we know when to increase the number of bits required for the next value?\n",
    "\n",
    "We increase when the code value equals `2 ** num_bits - 1`."
   ]
  },
  {
   "cell_type": "markdown",
   "metadata": {},
   "source": [
    "After we reset our code table, where do we get the values for the code table? The first code table values are directly mapped from the color index (size of color table)."
   ]
  },
  {
   "cell_type": "code",
   "execution_count": 16,
   "metadata": {
    "scrolled": true
   },
   "outputs": [
    {
     "name": "stdout",
     "output_type": "stream",
     "text": [
      "value: 0 num_bits: 3\n",
      "i: 0 b: 1 bin(b): 0b1 remain_bits_from_current_byte: 1\n",
      "value: 0 remain_bits_for_this_value: 3 remain_bits_from_current_byte: 1\n",
      "value: 1 remain_bits_for_this_value: 2 remain_bits_from_current_byte: 0\n",
      "1 0b1\n",
      "256 0b100000000\n",
      "0 0b0\n",
      "0 0b0\n",
      "i: 1 b: 140 bin(b): 0b10001100 remain_bits_from_current_byte: 8\n",
      "value: 1 remain_bits_for_this_value: 2 remain_bits_from_current_byte: 8\n",
      "value: 6 remain_bits_for_this_value: 0 remain_bits_from_current_byte: 6\n",
      "140 0b10001100\n",
      "560 0b1000110000\n",
      "48 0b110000\n",
      "12 0b1100\n",
      "value: 6\n",
      "code_stream: [6]\n",
      "value: 0 num_bits: 3\n",
      "i: 1 b: 12 bin(b): 0b1100 remain_bits_from_current_byte: 6\n",
      "value: 0 remain_bits_for_this_value: 3 remain_bits_from_current_byte: 6\n",
      "value: 1 remain_bits_for_this_value: 0 remain_bits_from_current_byte: 3\n",
      "12 0b1100\n",
      "384 0b110000000\n",
      "128 0b10000000\n",
      "4 0b100\n",
      "value: 1\n",
      "code_stream: [6, 1]\n",
      "value: 0 num_bits: 3\n",
      "i: 1 b: 4 bin(b): 0b100 remain_bits_from_current_byte: 3\n",
      "value: 0 remain_bits_for_this_value: 3 remain_bits_from_current_byte: 3\n",
      "value: 4 remain_bits_for_this_value: 0 remain_bits_from_current_byte: 0\n",
      "4 0b100\n",
      "1024 0b10000000000\n",
      "0 0b0\n",
      "0 0b0\n",
      "value: 4\n",
      "code_stream: [6, 1, 4]\n",
      "value: 0 num_bits: 3\n",
      "i: 2 b: 45 bin(b): 0b101101 remain_bits_from_current_byte: 8\n",
      "value: 0 remain_bits_for_this_value: 3 remain_bits_from_current_byte: 8\n",
      "value: 1 remain_bits_for_this_value: 0 remain_bits_from_current_byte: 5\n",
      "45 0b101101\n",
      "360 0b101101000\n",
      "104 0b1101000\n",
      "13 0b1101\n",
      "value: 1\n",
      "code_stream: [6, 1, 4, 1]\n",
      "value: 0 num_bits: 3\n",
      "i: 2 b: 13 bin(b): 0b1101 remain_bits_from_current_byte: 5\n",
      "value: 0 remain_bits_for_this_value: 3 remain_bits_from_current_byte: 5\n",
      "value: 3 remain_bits_for_this_value: 0 remain_bits_from_current_byte: 2\n",
      "13 0b1101\n",
      "832 0b1101000000\n",
      "64 0b1000000\n",
      "1 0b1\n",
      "value: 3\n",
      "code_stream: [6, 1, 4, 1, 3]\n",
      "value: 0 num_bits: 3\n",
      "i: 2 b: 1 bin(b): 0b1 remain_bits_from_current_byte: 2\n",
      "value: 0 remain_bits_for_this_value: 3 remain_bits_from_current_byte: 2\n",
      "value: 1 remain_bits_for_this_value: 1 remain_bits_from_current_byte: 0\n",
      "1 0b1\n",
      "256 0b100000000\n",
      "0 0b0\n",
      "0 0b0\n",
      "i: 3 b: 153 bin(b): 0b10011001 remain_bits_from_current_byte: 8\n",
      "value: 1 remain_bits_for_this_value: 1 remain_bits_from_current_byte: 8\n",
      "value: 3 remain_bits_for_this_value: 0 remain_bits_from_current_byte: 7\n",
      "153 0b10011001\n",
      "306 0b100110010\n",
      "50 0b110010\n",
      "25 0b11001\n",
      "value: 3\n",
      "code_stream: [6, 1, 4, 1, 3, 3]\n",
      "value: 0 num_bits: 3\n",
      "i: 3 b: 25 bin(b): 0b11001 remain_bits_from_current_byte: 7\n",
      "value: 0 remain_bits_for_this_value: 3 remain_bits_from_current_byte: 7\n",
      "value: 1 remain_bits_for_this_value: 0 remain_bits_from_current_byte: 4\n",
      "25 0b11001\n",
      "400 0b110010000\n",
      "144 0b10010000\n",
      "9 0b1001\n",
      "value: 1\n",
      "code_stream: [6, 1, 4, 1, 3, 3, 1]\n",
      "value: 0 num_bits: 3\n",
      "i: 3 b: 9 bin(b): 0b1001 remain_bits_from_current_byte: 4\n",
      "value: 0 remain_bits_for_this_value: 3 remain_bits_from_current_byte: 4\n",
      "value: 4 remain_bits_for_this_value: 0 remain_bits_from_current_byte: 1\n",
      "9 0b1001\n",
      "1152 0b10010000000\n",
      "128 0b10000000\n",
      "1 0b1\n",
      "value: 4\n",
      "code_stream: [6, 1, 4, 1, 3, 3, 1, 4]\n",
      "value: 0 num_bits: 3\n",
      "i: 3 b: 1 bin(b): 0b1 remain_bits_from_current_byte: 1\n",
      "value: 0 remain_bits_for_this_value: 3 remain_bits_from_current_byte: 1\n",
      "value: 1 remain_bits_for_this_value: 2 remain_bits_from_current_byte: 0\n",
      "1 0b1\n",
      "256 0b100000000\n",
      "0 0b0\n",
      "0 0b0\n",
      "i: 4 b: 135 bin(b): 0b10000111 remain_bits_from_current_byte: 8\n",
      "value: 1 remain_bits_for_this_value: 2 remain_bits_from_current_byte: 8\n",
      "value: 6 remain_bits_for_this_value: 0 remain_bits_from_current_byte: 6\n",
      "135 0b10000111\n",
      "540 0b1000011100\n",
      "28 0b11100\n",
      "7 0b111\n",
      "value: 6\n",
      "code_stream: [6, 1, 4, 1, 3, 3, 1, 4, 6]\n",
      "value: 0 num_bits: 3\n",
      "i: 4 b: 7 bin(b): 0b111 remain_bits_from_current_byte: 6\n",
      "value: 0 remain_bits_for_this_value: 3 remain_bits_from_current_byte: 6\n",
      "value: 0 remain_bits_for_this_value: 0 remain_bits_from_current_byte: 3\n",
      "7 0b111\n",
      "224 0b11100000\n",
      "224 0b11100000\n",
      "7 0b111\n",
      "value: 0\n",
      "code_stream: [6, 1, 4, 1, 3, 3, 1, 4, 6, 0]\n",
      "value: 0 num_bits: 3\n",
      "i: 4 b: 7 bin(b): 0b111 remain_bits_from_current_byte: 3\n",
      "value: 0 remain_bits_for_this_value: 3 remain_bits_from_current_byte: 3\n",
      "value: 7 remain_bits_for_this_value: 0 remain_bits_from_current_byte: 0\n",
      "7 0b111\n",
      "1792 0b11100000000\n",
      "0 0b0\n",
      "0 0b0\n",
      "value: 7\n",
      "num_bits: 4\n",
      "code_stream: [6, 1, 4, 1, 3, 3, 1, 4, 6, 0, 7]\n",
      "value: 0 num_bits: 4\n",
      "i: 5 b: 42 bin(b): 0b101010 remain_bits_from_current_byte: 8\n",
      "value: 0 remain_bits_for_this_value: 4 remain_bits_from_current_byte: 8\n",
      "value: 2 remain_bits_for_this_value: 0 remain_bits_from_current_byte: 4\n",
      "42 0b101010\n",
      "672 0b1010100000\n",
      "160 0b10100000\n",
      "10 0b1010\n",
      "value: 2\n",
      "code_stream: [6, 1, 4, 1, 3, 3, 1, 4, 6, 0, 7, 2]\n",
      "value: 0 num_bits: 4\n",
      "i: 5 b: 10 bin(b): 0b1010 remain_bits_from_current_byte: 4\n",
      "value: 0 remain_bits_for_this_value: 4 remain_bits_from_current_byte: 4\n",
      "value: 10 remain_bits_for_this_value: 0 remain_bits_from_current_byte: 0\n",
      "10 0b1010\n",
      "2560 0b101000000000\n",
      "0 0b0\n",
      "0 0b0\n",
      "value: 10\n",
      "code_stream: [6, 1, 4, 1, 3, 3, 1, 4, 6, 0, 7, 2, 10]\n",
      "value: 0 num_bits: 4\n",
      "i: 6 b: 28 bin(b): 0b11100 remain_bits_from_current_byte: 8\n",
      "value: 0 remain_bits_for_this_value: 4 remain_bits_from_current_byte: 8\n",
      "value: 1 remain_bits_for_this_value: 0 remain_bits_from_current_byte: 4\n",
      "28 0b11100\n",
      "448 0b111000000\n",
      "192 0b11000000\n",
      "12 0b1100\n",
      "value: 1\n",
      "code_stream: [6, 1, 4, 1, 3, 3, 1, 4, 6, 0, 7, 2, 10, 1]\n",
      "value: 0 num_bits: 4\n",
      "i: 6 b: 12 bin(b): 0b1100 remain_bits_from_current_byte: 4\n",
      "value: 0 remain_bits_for_this_value: 4 remain_bits_from_current_byte: 4\n",
      "value: 12 remain_bits_for_this_value: 0 remain_bits_from_current_byte: 0\n",
      "12 0b1100\n",
      "3072 0b110000000000\n",
      "0 0b0\n",
      "0 0b0\n",
      "value: 12\n",
      "code_stream: [6, 1, 4, 1, 3, 3, 1, 4, 6, 0, 7, 2, 10, 1, 12]\n",
      "value: 0 num_bits: 4\n",
      "i: 7 b: 220 bin(b): 0b11011100 remain_bits_from_current_byte: 8\n",
      "value: 0 remain_bits_for_this_value: 4 remain_bits_from_current_byte: 8\n",
      "value: 13 remain_bits_for_this_value: 0 remain_bits_from_current_byte: 4\n",
      "220 0b11011100\n",
      "3520 0b110111000000\n",
      "192 0b11000000\n",
      "12 0b1100\n",
      "value: 13\n",
      "code_stream: [6, 1, 4, 1, 3, 3, 1, 4, 6, 0, 7, 2, 10, 1, 12, 13]\n",
      "value: 0 num_bits: 4\n",
      "i: 7 b: 12 bin(b): 0b1100 remain_bits_from_current_byte: 4\n",
      "value: 0 remain_bits_for_this_value: 4 remain_bits_from_current_byte: 4\n",
      "value: 12 remain_bits_for_this_value: 0 remain_bits_from_current_byte: 0\n",
      "12 0b1100\n",
      "3072 0b110000000000\n",
      "0 0b0\n",
      "0 0b0\n",
      "value: 12\n",
      "code_stream: [6, 1, 4, 1, 3, 3, 1, 4, 6, 0, 7, 2, 10, 1, 12, 13, 12]\n",
      "value: 0 num_bits: 4\n",
      "i: 8 b: 51 bin(b): 0b110011 remain_bits_from_current_byte: 8\n",
      "value: 0 remain_bits_for_this_value: 4 remain_bits_from_current_byte: 8\n",
      "value: 3 remain_bits_for_this_value: 0 remain_bits_from_current_byte: 4\n",
      "51 0b110011\n",
      "816 0b1100110000\n",
      "48 0b110000\n",
      "3 0b11\n",
      "value: 3\n",
      "code_stream: [6, 1, 4, 1, 3, 3, 1, 4, 6, 0, 7, 2, 10, 1, 12, 13, 12, 3]\n",
      "value: 0 num_bits: 4\n",
      "i: 8 b: 3 bin(b): 0b11 remain_bits_from_current_byte: 4\n",
      "value: 0 remain_bits_for_this_value: 4 remain_bits_from_current_byte: 4\n",
      "value: 3 remain_bits_for_this_value: 0 remain_bits_from_current_byte: 0\n",
      "3 0b11\n",
      "768 0b1100000000\n",
      "0 0b0\n",
      "0 0b0\n",
      "value: 3\n",
      "code_stream: [6, 1, 4, 1, 3, 3, 1, 4, 6, 0, 7, 2, 10, 1, 12, 13, 12, 3, 3]\n",
      "value: 0 num_bits: 4\n",
      "i: 9 b: 160 bin(b): 0b10100000 remain_bits_from_current_byte: 8\n",
      "value: 0 remain_bits_for_this_value: 4 remain_bits_from_current_byte: 8\n",
      "value: 10 remain_bits_for_this_value: 0 remain_bits_from_current_byte: 4\n",
      "160 0b10100000\n",
      "2560 0b101000000000\n",
      "0 0b0\n",
      "0 0b0\n",
      "value: 10\n",
      "code_stream: [6, 1, 4, 1, 3, 3, 1, 4, 6, 0, 7, 2, 10, 1, 12, 13, 12, 3, 3, 10]\n",
      "value: 0 num_bits: 4\n",
      "i: 9 b: 0 bin(b): 0b0 remain_bits_from_current_byte: 4\n",
      "value: 0 remain_bits_for_this_value: 4 remain_bits_from_current_byte: 4\n",
      "value: 0 remain_bits_for_this_value: 0 remain_bits_from_current_byte: 0\n",
      "0 0b0\n",
      "0 0b0\n",
      "0 0b0\n",
      "0 0b0\n",
      "value: 0\n",
      "code_stream: [6, 1, 4, 1, 3, 3, 1, 4, 6, 0, 7, 2, 10, 1, 12, 13, 12, 3, 3, 10, 0]\n",
      "value: 0 num_bits: 4\n",
      "i: 10 b: 2 bin(b): 0b10 remain_bits_from_current_byte: 8\n",
      "value: 0 remain_bits_for_this_value: 4 remain_bits_from_current_byte: 8\n",
      "value: 0 remain_bits_for_this_value: 0 remain_bits_from_current_byte: 4\n",
      "2 0b10\n",
      "32 0b100000\n",
      "32 0b100000\n",
      "2 0b10\n",
      "value: 0\n",
      "code_stream: [6, 1, 4, 1, 3, 3, 1, 4, 6, 0, 7, 2, 10, 1, 12, 13, 12, 3, 3, 10, 0, 0]\n",
      "value: 0 num_bits: 4\n",
      "i: 10 b: 2 bin(b): 0b10 remain_bits_from_current_byte: 4\n",
      "value: 0 remain_bits_for_this_value: 4 remain_bits_from_current_byte: 4\n",
      "value: 2 remain_bits_for_this_value: 0 remain_bits_from_current_byte: 0\n",
      "2 0b10\n",
      "512 0b1000000000\n",
      "0 0b0\n",
      "0 0b0\n",
      "value: 2\n",
      "code_stream: [6, 1, 4, 1, 3, 3, 1, 4, 6, 0, 7, 2, 10, 1, 12, 13, 12, 3, 3, 10, 0, 0, 2]\n",
      "value: 0 num_bits: 4\n",
      "i: 11 b: 117 bin(b): 0b1110101 remain_bits_from_current_byte: 8\n",
      "value: 0 remain_bits_for_this_value: 4 remain_bits_from_current_byte: 8\n",
      "value: 7 remain_bits_for_this_value: 0 remain_bits_from_current_byte: 4\n",
      "117 0b1110101\n",
      "1872 0b11101010000\n",
      "80 0b1010000\n",
      "5 0b101\n",
      "value: 7\n",
      "code_stream: [6, 1, 4, 1, 3, 3, 1, 4, 6, 0, 7, 2, 10, 1, 12, 13, 12, 3, 3, 10, 0, 0, 2, 7]\n",
      "value: 0 num_bits: 4\n",
      "i: 11 b: 5 bin(b): 0b101 remain_bits_from_current_byte: 4\n",
      "value: 0 remain_bits_for_this_value: 4 remain_bits_from_current_byte: 4\n",
      "value: 5 remain_bits_for_this_value: 0 remain_bits_from_current_byte: 0\n",
      "5 0b101\n",
      "1280 0b10100000000\n",
      "0 0b0\n",
      "0 0b0\n",
      "value: 5\n",
      "code_stream: [6, 1, 4, 1, 3, 3, 1, 4, 6, 0, 7, 2, 10, 1, 12, 13, 12, 3, 3, 10, 0, 0, 2, 7, 5]\n",
      "value: 0 num_bits: 4\n",
      "i: 12 b: 236 bin(b): 0b11101100 remain_bits_from_current_byte: 8\n",
      "value: 0 remain_bits_for_this_value: 4 remain_bits_from_current_byte: 8\n",
      "value: 14 remain_bits_for_this_value: 0 remain_bits_from_current_byte: 4\n",
      "236 0b11101100\n",
      "3776 0b111011000000\n",
      "192 0b11000000\n",
      "12 0b1100\n",
      "value: 14\n",
      "code_stream: [6, 1, 4, 1, 3, 3, 1, 4, 6, 0, 7, 2, 10, 1, 12, 13, 12, 3, 3, 10, 0, 0, 2, 7, 5, 14]\n",
      "value: 0 num_bits: 4\n",
      "i: 12 b: 12 bin(b): 0b1100 remain_bits_from_current_byte: 4\n",
      "value: 0 remain_bits_for_this_value: 4 remain_bits_from_current_byte: 4\n",
      "value: 12 remain_bits_for_this_value: 0 remain_bits_from_current_byte: 0\n",
      "12 0b1100\n",
      "3072 0b110000000000\n",
      "0 0b0\n",
      "0 0b0\n",
      "value: 12\n",
      "code_stream: [6, 1, 4, 1, 3, 3, 1, 4, 6, 0, 7, 2, 10, 1, 12, 13, 12, 3, 3, 10, 0, 0, 2, 7, 5, 14, 12]\n",
      "value: 0 num_bits: 4\n",
      "i: 13 b: 149 bin(b): 0b10010101 remain_bits_from_current_byte: 8\n",
      "value: 0 remain_bits_for_this_value: 4 remain_bits_from_current_byte: 8\n",
      "value: 9 remain_bits_for_this_value: 0 remain_bits_from_current_byte: 4\n",
      "149 0b10010101\n",
      "2384 0b100101010000\n",
      "80 0b1010000\n",
      "5 0b101\n",
      "value: 9\n",
      "code_stream: [6, 1, 4, 1, 3, 3, 1, 4, 6, 0, 7, 2, 10, 1, 12, 13, 12, 3, 3, 10, 0, 0, 2, 7, 5, 14, 12, 9]\n",
      "value: 0 num_bits: 4\n",
      "i: 13 b: 5 bin(b): 0b101 remain_bits_from_current_byte: 4\n",
      "value: 0 remain_bits_for_this_value: 4 remain_bits_from_current_byte: 4\n",
      "value: 5 remain_bits_for_this_value: 0 remain_bits_from_current_byte: 0\n",
      "5 0b101\n",
      "1280 0b10100000000\n",
      "0 0b0\n",
      "0 0b0\n",
      "value: 5\n",
      "code_stream: [6, 1, 4, 1, 3, 3, 1, 4, 6, 0, 7, 2, 10, 1, 12, 13, 12, 3, 3, 10, 0, 0, 2, 7, 5, 14, 12, 9, 5]\n",
      "value: 0 num_bits: 4\n",
      "i: 14 b: 250 bin(b): 0b11111010 remain_bits_from_current_byte: 8\n",
      "value: 0 remain_bits_for_this_value: 4 remain_bits_from_current_byte: 8\n",
      "value: 15 remain_bits_for_this_value: 0 remain_bits_from_current_byte: 4\n",
      "250 0b11111010\n",
      "4000 0b111110100000\n",
      "160 0b10100000\n",
      "10 0b1010\n",
      "value: 15\n",
      "num_bits: 5\n",
      "code_stream: [6, 1, 4, 1, 3, 3, 1, 4, 6, 0, 7, 2, 10, 1, 12, 13, 12, 3, 3, 10, 0, 0, 2, 7, 5, 14, 12, 9, 5, 15]\n",
      "value: 0 num_bits: 5\n",
      "i: 14 b: 10 bin(b): 0b1010 remain_bits_from_current_byte: 4\n",
      "value: 0 remain_bits_for_this_value: 5 remain_bits_from_current_byte: 4\n",
      "value: 10 remain_bits_for_this_value: 1 remain_bits_from_current_byte: 0\n",
      "10 0b1010\n",
      "2560 0b101000000000\n",
      "0 0b0\n",
      "0 0b0\n",
      "i: 15 b: 168 bin(b): 0b10101000 remain_bits_from_current_byte: 8\n",
      "value: 10 remain_bits_for_this_value: 1 remain_bits_from_current_byte: 8\n",
      "value: 21 remain_bits_for_this_value: 0 remain_bits_from_current_byte: 7\n",
      "168 0b10101000\n",
      "336 0b101010000\n",
      "80 0b1010000\n",
      "40 0b101000\n",
      "value: 21\n",
      "code_stream: [6, 1, 4, 1, 3, 3, 1, 4, 6, 0, 7, 2, 10, 1, 12, 13, 12, 3, 3, 10, 0, 0, 2, 7, 5, 14, 12, 9, 5, 15, 21]\n",
      "value: 0 num_bits: 5\n",
      "i: 15 b: 40 bin(b): 0b101000 remain_bits_from_current_byte: 7\n",
      "value: 0 remain_bits_for_this_value: 5 remain_bits_from_current_byte: 7\n",
      "value: 10 remain_bits_for_this_value: 0 remain_bits_from_current_byte: 2\n",
      "40 0b101000\n",
      "2560 0b101000000000\n",
      "0 0b0\n",
      "0 0b0\n",
      "value: 10\n",
      "code_stream: [6, 1, 4, 1, 3, 3, 1, 4, 6, 0, 7, 2, 10, 1, 12, 13, 12, 3, 3, 10, 0, 0, 2, 7, 5, 14, 12, 9, 5, 15, 21, 10]\n",
      "value: 0 num_bits: 5\n",
      "i: 15 b: 0 bin(b): 0b0 remain_bits_from_current_byte: 2\n",
      "value: 0 remain_bits_for_this_value: 5 remain_bits_from_current_byte: 2\n",
      "value: 0 remain_bits_for_this_value: 3 remain_bits_from_current_byte: 0\n",
      "0 0b0\n",
      "0 0b0\n",
      "0 0b0\n",
      "0 0b0\n",
      "i: 16 b: 222 bin(b): 0b11011110 remain_bits_from_current_byte: 8\n",
      "value: 0 remain_bits_for_this_value: 3 remain_bits_from_current_byte: 8\n",
      "value: 6 remain_bits_for_this_value: 0 remain_bits_from_current_byte: 5\n",
      "222 0b11011110\n",
      "1776 0b11011110000\n",
      "240 0b11110000\n",
      "30 0b11110\n",
      "value: 6\n",
      "code_stream: [6, 1, 4, 1, 3, 3, 1, 4, 6, 0, 7, 2, 10, 1, 12, 13, 12, 3, 3, 10, 0, 0, 2, 7, 5, 14, 12, 9, 5, 15, 21, 10, 6]\n",
      "value: 0 num_bits: 5\n",
      "i: 16 b: 30 bin(b): 0b11110 remain_bits_from_current_byte: 5\n",
      "value: 0 remain_bits_for_this_value: 5 remain_bits_from_current_byte: 5\n",
      "value: 30 remain_bits_for_this_value: 0 remain_bits_from_current_byte: 0\n",
      "30 0b11110\n",
      "7680 0b1111000000000\n",
      "0 0b0\n",
      "0 0b0\n",
      "value: 30\n",
      "code_stream: [6, 1, 4, 1, 3, 3, 1, 4, 6, 0, 7, 2, 10, 1, 12, 13, 12, 3, 3, 10, 0, 0, 2, 7, 5, 14, 12, 9, 5, 15, 21, 10, 6, 30]\n",
      "value: 0 num_bits: 5\n",
      "i: 17 b: 96 bin(b): 0b1100000 remain_bits_from_current_byte: 8\n",
      "value: 0 remain_bits_for_this_value: 5 remain_bits_from_current_byte: 8\n",
      "value: 12 remain_bits_for_this_value: 0 remain_bits_from_current_byte: 3\n",
      "96 0b1100000\n",
      "3072 0b110000000000\n",
      "0 0b0\n",
      "0 0b0\n",
      "value: 12\n",
      "code_stream: [6, 1, 4, 1, 3, 3, 1, 4, 6, 0, 7, 2, 10, 1, 12, 13, 12, 3, 3, 10, 0, 0, 2, 7, 5, 14, 12, 9, 5, 15, 21, 10, 6, 30, 12]\n",
      "value: 0 num_bits: 5\n",
      "i: 17 b: 0 bin(b): 0b0 remain_bits_from_current_byte: 3\n",
      "value: 0 remain_bits_for_this_value: 5 remain_bits_from_current_byte: 3\n",
      "value: 0 remain_bits_for_this_value: 2 remain_bits_from_current_byte: 0\n",
      "0 0b0\n",
      "0 0b0\n",
      "0 0b0\n",
      "0 0b0\n",
      "i: 18 b: 140 bin(b): 0b10001100 remain_bits_from_current_byte: 8\n",
      "value: 0 remain_bits_for_this_value: 2 remain_bits_from_current_byte: 8\n",
      "value: 2 remain_bits_for_this_value: 0 remain_bits_from_current_byte: 6\n",
      "140 0b10001100\n",
      "560 0b1000110000\n",
      "48 0b110000\n",
      "12 0b1100\n",
      "value: 2\n",
      "code_stream: [6, 1, 4, 1, 3, 3, 1, 4, 6, 0, 7, 2, 10, 1, 12, 13, 12, 3, 3, 10, 0, 0, 2, 7, 5, 14, 12, 9, 5, 15, 21, 10, 6, 30, 12, 2]\n",
      "value: 0 num_bits: 5\n",
      "i: 18 b: 12 bin(b): 0b1100 remain_bits_from_current_byte: 6\n",
      "value: 0 remain_bits_for_this_value: 5 remain_bits_from_current_byte: 6\n",
      "value: 6 remain_bits_for_this_value: 0 remain_bits_from_current_byte: 1\n",
      "12 0b1100\n",
      "1536 0b11000000000\n",
      "0 0b0\n",
      "0 0b0\n",
      "value: 6\n",
      "code_stream: [6, 1, 4, 1, 3, 3, 1, 4, 6, 0, 7, 2, 10, 1, 12, 13, 12, 3, 3, 10, 0, 0, 2, 7, 5, 14, 12, 9, 5, 15, 21, 10, 6, 30, 12, 2, 6]\n",
      "value: 0 num_bits: 5\n",
      "i: 18 b: 0 bin(b): 0b0 remain_bits_from_current_byte: 1\n",
      "value: 0 remain_bits_for_this_value: 5 remain_bits_from_current_byte: 1\n",
      "value: 0 remain_bits_for_this_value: 4 remain_bits_from_current_byte: 0\n",
      "0 0b0\n",
      "0 0b0\n",
      "0 0b0\n",
      "0 0b0\n",
      "i: 19 b: 4 bin(b): 0b100 remain_bits_from_current_byte: 8\n",
      "value: 0 remain_bits_for_this_value: 4 remain_bits_from_current_byte: 8\n",
      "value: 0 remain_bits_for_this_value: 0 remain_bits_from_current_byte: 4\n",
      "4 0b100\n",
      "64 0b1000000\n",
      "64 0b1000000\n",
      "4 0b100\n",
      "value: 0\n",
      "code_stream: [6, 1, 4, 1, 3, 3, 1, 4, 6, 0, 7, 2, 10, 1, 12, 13, 12, 3, 3, 10, 0, 0, 2, 7, 5, 14, 12, 9, 5, 15, 21, 10, 6, 30, 12, 2, 6, 0]\n",
      "value: 0 num_bits: 5\n",
      "i: 19 b: 4 bin(b): 0b100 remain_bits_from_current_byte: 4\n",
      "value: 0 remain_bits_for_this_value: 5 remain_bits_from_current_byte: 4\n",
      "value: 4 remain_bits_for_this_value: 1 remain_bits_from_current_byte: 0\n",
      "4 0b100\n",
      "1024 0b10000000000\n",
      "0 0b0\n",
      "0 0b0\n",
      "i: 20 b: 145 bin(b): 0b10010001 remain_bits_from_current_byte: 8\n",
      "value: 4 remain_bits_for_this_value: 1 remain_bits_from_current_byte: 8\n",
      "value: 9 remain_bits_for_this_value: 0 remain_bits_from_current_byte: 7\n",
      "145 0b10010001\n",
      "290 0b100100010\n",
      "34 0b100010\n",
      "17 0b10001\n",
      "value: 9\n",
      "code_stream: [6, 1, 4, 1, 3, 3, 1, 4, 6, 0, 7, 2, 10, 1, 12, 13, 12, 3, 3, 10, 0, 0, 2, 7, 5, 14, 12, 9, 5, 15, 21, 10, 6, 30, 12, 2, 6, 0, 9]\n",
      "value: 0 num_bits: 5\n",
      "i: 20 b: 17 bin(b): 0b10001 remain_bits_from_current_byte: 7\n",
      "value: 0 remain_bits_for_this_value: 5 remain_bits_from_current_byte: 7\n",
      "value: 4 remain_bits_for_this_value: 0 remain_bits_from_current_byte: 2\n",
      "17 0b10001\n",
      "1088 0b10001000000\n",
      "64 0b1000000\n",
      "1 0b1\n",
      "value: 4\n",
      "code_stream: [6, 1, 4, 1, 3, 3, 1, 4, 6, 0, 7, 2, 10, 1, 12, 13, 12, 3, 3, 10, 0, 0, 2, 7, 5, 14, 12, 9, 5, 15, 21, 10, 6, 30, 12, 2, 6, 0, 9, 4]\n",
      "value: 0 num_bits: 5\n",
      "i: 20 b: 1 bin(b): 0b1 remain_bits_from_current_byte: 2\n",
      "value: 0 remain_bits_for_this_value: 5 remain_bits_from_current_byte: 2\n",
      "value: 1 remain_bits_for_this_value: 3 remain_bits_from_current_byte: 0\n",
      "1 0b1\n",
      "256 0b100000000\n",
      "0 0b0\n",
      "0 0b0\n",
      "i: 21 b: 76 bin(b): 0b1001100 remain_bits_from_current_byte: 8\n",
      "value: 1 remain_bits_for_this_value: 3 remain_bits_from_current_byte: 8\n",
      "value: 10 remain_bits_for_this_value: 0 remain_bits_from_current_byte: 5\n",
      "76 0b1001100\n",
      "608 0b1001100000\n",
      "96 0b1100000\n",
      "12 0b1100\n",
      "value: 10\n",
      "code_stream: [6, 1, 4, 1, 3, 3, 1, 4, 6, 0, 7, 2, 10, 1, 12, 13, 12, 3, 3, 10, 0, 0, 2, 7, 5, 14, 12, 9, 5, 15, 21, 10, 6, 30, 12, 2, 6, 0, 9, 4, 10]\n",
      "value: 0 num_bits: 5\n",
      "i: 21 b: 12 bin(b): 0b1100 remain_bits_from_current_byte: 5\n",
      "value: 0 remain_bits_for_this_value: 5 remain_bits_from_current_byte: 5\n",
      "value: 12 remain_bits_for_this_value: 0 remain_bits_from_current_byte: 0\n",
      "12 0b1100\n",
      "3072 0b110000000000\n",
      "0 0b0\n",
      "0 0b0\n",
      "value: 12\n",
      "code_stream: [6, 1, 4, 1, 3, 3, 1, 4, 6, 0, 7, 2, 10, 1, 12, 13, 12, 3, 3, 10, 0, 0, 2, 7, 5, 14, 12, 9, 5, 15, 21, 10, 6, 30, 12, 2, 6, 0, 9, 4, 10, 12]\n",
      "value: 0 num_bits: 5\n",
      "i: 22 b: 1 bin(b): 0b1 remain_bits_from_current_byte: 8\n",
      "value: 0 remain_bits_for_this_value: 5 remain_bits_from_current_byte: 8\n",
      "value: 0 remain_bits_for_this_value: 0 remain_bits_from_current_byte: 3\n",
      "1 0b1\n",
      "32 0b100000\n",
      "32 0b100000\n",
      "1 0b1\n",
      "value: 0\n",
      "code_stream: [6, 1, 4, 1, 3, 3, 1, 4, 6, 0, 7, 2, 10, 1, 12, 13, 12, 3, 3, 10, 0, 0, 2, 7, 5, 14, 12, 9, 5, 15, 21, 10, 6, 30, 12, 2, 6, 0, 9, 4, 10, 12, 0]\n"
     ]
    }
   ],
   "source": [
    "code_stream = []\n",
    "\n",
    "num_bits = img_block.lzw_min_code_size + 1\n",
    "\n",
    "clear_code = 2 ** img_block.lzw_min_code_size\n",
    "eoi_code = clear_code + 1\n",
    "\n",
    "# index for compressed stream\n",
    "i = 0\n",
    "remain_bits_from_current_byte = 0\n",
    "\n",
    "# every loop will retrieve a code and append it to the code_stream\n",
    "while True and (i < len(img_block.compressed_data)):\n",
    "    value = 0\n",
    "    remain_bits_for_this_value = num_bits\n",
    "    print('value:', value, 'num_bits:', num_bits)\n",
    "\n",
    "    while remain_bits_for_this_value != 0:\n",
    "        if remain_bits_from_current_byte == 0:\n",
    "            b = img_block.compressed_data[i]\n",
    "            remain_bits_from_current_byte = 8\n",
    "            i += 1\n",
    "        print('i:', i, 'b:', b, 'bin(b):', bin(b), 'remain_bits_from_current_byte:', remain_bits_from_current_byte)\n",
    "\n",
    "        if remain_bits_for_this_value >= remain_bits_from_current_byte:\n",
    "            print('value:', value, 'remain_bits_for_this_value:', remain_bits_for_this_value, 'remain_bits_from_current_byte:', remain_bits_from_current_byte)\n",
    "\n",
    "            value = value << (num_bits - remain_bits_for_this_value)\n",
    "            value += b\n",
    "            remain_bits_for_this_value -= remain_bits_from_current_byte\n",
    "            remain_bits_from_current_byte = 0\n",
    "\n",
    "            print('value:', value, 'remain_bits_for_this_value:', remain_bits_for_this_value, 'remain_bits_from_current_byte:', remain_bits_from_current_byte)\n",
    "        else:\n",
    "            print('value:', value, 'remain_bits_for_this_value:', remain_bits_for_this_value, 'remain_bits_from_current_byte:', remain_bits_from_current_byte)\n",
    "\n",
    "            value = value << remain_bits_for_this_value\n",
    "            temp_value = b >> (remain_bits_from_current_byte - remain_bits_for_this_value)\n",
    "            value += temp_value\n",
    "            remain_bits_from_current_byte -= remain_bits_for_this_value\n",
    "            remain_bits_for_this_value = 0\n",
    "\n",
    "            print('value:', value, 'remain_bits_for_this_value:', remain_bits_for_this_value, 'remain_bits_from_current_byte:', remain_bits_from_current_byte)\n",
    "\n",
    "        # subtract value from b\n",
    "        print(b, bin(b))\n",
    "        b = b << (8 - remain_bits_from_current_byte)\n",
    "        print(b, bin(b))\n",
    "        b = b & 0xff\n",
    "        print(b, bin(b))\n",
    "        b = b >> (8 - remain_bits_from_current_byte)\n",
    "        print(b, bin(b))\n",
    "\n",
    "    print('value:', value)\n",
    "    if value >= (2**(num_bits) - 1):\n",
    "        num_bits += 1\n",
    "        print('num_bits:', num_bits)\n",
    "    code_stream.append(value)\n",
    "    print('code_stream:', code_stream)"
   ]
  },
  {
   "cell_type": "code",
   "execution_count": 17,
   "metadata": {},
   "outputs": [
    {
     "data": {
      "text/plain": [
       "22"
      ]
     },
     "execution_count": 17,
     "metadata": {},
     "output_type": "execute_result"
    }
   ],
   "source": [
    "i"
   ]
  },
  {
   "cell_type": "code",
   "execution_count": 18,
   "metadata": {},
   "outputs": [
    {
     "data": {
      "text/plain": [
       "5"
      ]
     },
     "execution_count": 18,
     "metadata": {},
     "output_type": "execute_result"
    }
   ],
   "source": [
    "eoi_code"
   ]
  }
 ],
 "metadata": {
  "kernelspec": {
   "display_name": "Python 3",
   "language": "python",
   "name": "python3"
  },
  "language_info": {
   "codemirror_mode": {
    "name": "ipython",
    "version": 3
   },
   "file_extension": ".py",
   "mimetype": "text/x-python",
   "name": "python",
   "nbconvert_exporter": "python",
   "pygments_lexer": "ipython3",
   "version": "3.7.4"
  }
 },
 "nbformat": 4,
 "nbformat_minor": 2
}
