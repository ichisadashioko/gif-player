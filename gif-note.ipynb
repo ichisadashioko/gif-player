{
 "cells": [
  {
   "cell_type": "code",
   "execution_count": 1,
   "metadata": {},
   "outputs": [],
   "source": [
    "import os\n",
    "import time\n",
    "import io\n",
    "import struct\n",
    "import sys\n",
    "import math"
   ]
  },
  {
   "cell_type": "code",
   "execution_count": 2,
   "metadata": {},
   "outputs": [],
   "source": [
    "import numpy as np\n",
    "import matplotlib.pyplot as plt"
   ]
  },
  {
   "cell_type": "code",
   "execution_count": 3,
   "metadata": {},
   "outputs": [
    {
     "data": {
      "text/plain": [
       "True"
      ]
     },
     "execution_count": 3,
     "metadata": {},
     "output_type": "execute_result"
    }
   ],
   "source": [
    "infile = 'giphy.gif'\n",
    "os.path.exists(infile)"
   ]
  },
  {
   "cell_type": "code",
   "execution_count": 4,
   "metadata": {},
   "outputs": [],
   "source": [
    "file_obj = open(infile, mode='rb')"
   ]
  },
  {
   "cell_type": "code",
   "execution_count": 5,
   "metadata": {},
   "outputs": [],
   "source": [
    "# file_obj.close()"
   ]
  },
  {
   "cell_type": "markdown",
   "metadata": {},
   "source": [
    "# Compare signature"
   ]
  },
  {
   "cell_type": "code",
   "execution_count": 6,
   "metadata": {},
   "outputs": [
    {
     "data": {
      "text/plain": [
       "b'GIF89a'"
      ]
     },
     "execution_count": 6,
     "metadata": {},
     "output_type": "execute_result"
    }
   ],
   "source": [
    "sig = file_obj.read(6)\n",
    "sig"
   ]
  },
  {
   "cell_type": "code",
   "execution_count": 7,
   "metadata": {},
   "outputs": [
    {
     "data": {
      "text/plain": [
       "6"
      ]
     },
     "execution_count": 7,
     "metadata": {},
     "output_type": "execute_result"
    }
   ],
   "source": [
    "len(sig)"
   ]
  },
  {
   "cell_type": "code",
   "execution_count": 8,
   "metadata": {},
   "outputs": [
    {
     "data": {
      "text/plain": [
       "bytes"
      ]
     },
     "execution_count": 8,
     "metadata": {},
     "output_type": "execute_result"
    }
   ],
   "source": [
    "type(sig)"
   ]
  },
  {
   "cell_type": "code",
   "execution_count": 9,
   "metadata": {},
   "outputs": [],
   "source": [
    "gif87a_sig = b'GIF87a'\n",
    "gif89a_sig = b'GIF89a'"
   ]
  },
  {
   "cell_type": "code",
   "execution_count": 10,
   "metadata": {},
   "outputs": [
    {
     "name": "stdout",
     "output_type": "stream",
     "text": [
      "Hi b'GIF89a'\n"
     ]
    }
   ],
   "source": [
    "msg = f'Hi {str(gif89a_sig)}'\n",
    "print(msg)"
   ]
  },
  {
   "cell_type": "code",
   "execution_count": 11,
   "metadata": {},
   "outputs": [
    {
     "data": {
      "text/plain": [
       "bytes"
      ]
     },
     "execution_count": 11,
     "metadata": {},
     "output_type": "execute_result"
    }
   ],
   "source": [
    "type(gif89a_sig)"
   ]
  },
  {
   "cell_type": "code",
   "execution_count": 12,
   "metadata": {},
   "outputs": [
    {
     "data": {
      "text/plain": [
       "b'GIF89a'"
      ]
     },
     "execution_count": 12,
     "metadata": {},
     "output_type": "execute_result"
    }
   ],
   "source": [
    "gif89a_sig"
   ]
  },
  {
   "cell_type": "code",
   "execution_count": 13,
   "metadata": {},
   "outputs": [
    {
     "data": {
      "text/plain": [
       "True"
      ]
     },
     "execution_count": 13,
     "metadata": {},
     "output_type": "execute_result"
    }
   ],
   "source": [
    "sig == gif89a_sig"
   ]
  },
  {
   "cell_type": "code",
   "execution_count": 14,
   "metadata": {},
   "outputs": [
    {
     "data": {
      "text/plain": [
       "False"
      ]
     },
     "execution_count": 14,
     "metadata": {},
     "output_type": "execute_result"
    }
   ],
   "source": [
    "sig == gif87a_sig"
   ]
  },
  {
   "cell_type": "markdown",
   "metadata": {},
   "source": [
    "# Screen Descriptor"
   ]
  },
  {
   "cell_type": "code",
   "execution_count": 15,
   "metadata": {},
   "outputs": [],
   "source": [
    "screen_desc = file_obj.read(7)"
   ]
  },
  {
   "cell_type": "code",
   "execution_count": 16,
   "metadata": {},
   "outputs": [
    {
     "data": {
      "text/plain": [
       "7"
      ]
     },
     "execution_count": 16,
     "metadata": {},
     "output_type": "execute_result"
    }
   ],
   "source": [
    "len(screen_desc)"
   ]
  },
  {
   "cell_type": "code",
   "execution_count": 17,
   "metadata": {},
   "outputs": [
    {
     "data": {
      "text/plain": [
       "bytes"
      ]
     },
     "execution_count": 17,
     "metadata": {},
     "output_type": "execute_result"
    }
   ],
   "source": [
    "type(screen_desc)"
   ]
  },
  {
   "cell_type": "code",
   "execution_count": 18,
   "metadata": {},
   "outputs": [],
   "source": [
    "width = struct.unpack('<h', screen_desc[0:2])[0]\n",
    "height = struct.unpack('<h', screen_desc[2:4])[0]\n",
    "packed_field = screen_desc[4]\n",
    "background_color_index = screen_desc[5]\n",
    "# Pixel Aspect Ratio is normal not used because we've known the width and height.\n",
    "# pixel_aspect_ratio = screen_desc[6]"
   ]
  },
  {
   "cell_type": "markdown",
   "metadata": {},
   "source": [
    "## unpack Packed Fields"
   ]
  },
  {
   "cell_type": "code",
   "execution_count": 19,
   "metadata": {},
   "outputs": [
    {
     "data": {
      "text/plain": [
       "246"
      ]
     },
     "execution_count": 19,
     "metadata": {},
     "output_type": "execute_result"
    }
   ],
   "source": [
    "packed_field"
   ]
  },
  {
   "cell_type": "code",
   "execution_count": 20,
   "metadata": {},
   "outputs": [
    {
     "data": {
      "text/plain": [
       "int"
      ]
     },
     "execution_count": 20,
     "metadata": {},
     "output_type": "execute_result"
    }
   ],
   "source": [
    "type(packed_field)"
   ]
  },
  {
   "cell_type": "code",
   "execution_count": 21,
   "metadata": {},
   "outputs": [
    {
     "data": {
      "text/plain": [
       "'0b11110110'"
      ]
     },
     "execution_count": 21,
     "metadata": {},
     "output_type": "execute_result"
    }
   ],
   "source": [
    "bin(packed_field)"
   ]
  },
  {
   "cell_type": "code",
   "execution_count": 22,
   "metadata": {},
   "outputs": [
    {
     "data": {
      "text/plain": [
       "(1, '0b1')"
      ]
     },
     "execution_count": 22,
     "metadata": {},
     "output_type": "execute_result"
    }
   ],
   "source": [
    "global_color_table_flag = (packed_field & 0b10000000) >> 7\n",
    "global_color_table_flag, bin(global_color_table_flag)"
   ]
  },
  {
   "cell_type": "markdown",
   "metadata": {},
   "source": [
    "> Color Resolution - Number of bits per primary color available to the original image, minus 1.\n",
    "\n",
    "I think that means the number of bits to store a color. E.g. true color (RGB) requires 24 bits (3 bytes). Yeah, it makes no sense to me right now because the maximum value for this field is 7 (3 bits all 1).\n",
    "\n",
    "> This value represents the size of the entire palette from which the colors in the graphic were selected, not the number of colors actually used in the graphic.\n",
    "\n",
    "I still have no sense what the specification is talking about. The maximum value for this field is 7 so the maximum size of the palette is 7 something?\n",
    "\n",
    "> For example, if the value in this field is 3, then the palette of the original image had 4 bits per primary color available to create the image.\n",
    "\n",
    "Now I am noticing the specification is meaning about `original image`. Are there multiple images out there we need to care about outside the image this GIF file is storing? Even you raise the maximum value to 8, we can't still store a RGB color format in 8 bits.\n",
    "\n",
    "> This value should be set to indicate the richness of the original palette, even if not every color from the whole palette is available on the source machine.\n",
    "\n",
    "No, that does help at all. Specification!!!"
   ]
  },
  {
   "cell_type": "code",
   "execution_count": 23,
   "metadata": {},
   "outputs": [
    {
     "data": {
      "text/plain": [
       "(7, '0b111')"
      ]
     },
     "execution_count": 23,
     "metadata": {},
     "output_type": "execute_result"
    }
   ],
   "source": [
    "color_resolution = (packed_field & 0b01110000) >> 4\n",
    "color_resolution, bin(color_resolution)"
   ]
  },
  {
   "cell_type": "markdown",
   "metadata": {},
   "source": [
    "> Sort Flag - Indicates whether the Global Color Table is sorted.\n",
    "\n",
    "Simple enough.\n",
    "\n",
    "> If the flag is set, the Global Color Table is sorted, in order of decreasing importance. Typically, the order would be descreasing frequency, with most frequent color first. This assists a decoder, with fewer available colors, in choosing the best subset of colors; the decoder may use an initial segment of the table to render the graphic.\n",
    "\n",
    "Yeah, I think I got that."
   ]
  },
  {
   "cell_type": "code",
   "execution_count": 24,
   "metadata": {},
   "outputs": [
    {
     "data": {
      "text/plain": [
       "(0, '0b0')"
      ]
     },
     "execution_count": 24,
     "metadata": {},
     "output_type": "execute_result"
    }
   ],
   "source": [
    "sort_flag = (packed_field & 0b00001000) >> 3\n",
    "sort_flag, bin(sort_flag)"
   ]
  },
  {
   "cell_type": "markdown",
   "metadata": {},
   "source": [
    "> Size of Global Color Table - If the Global Color Table Flag is set to 1, the value in this field is used to calculate the number of bytes contained in the Global Color Table. To determine that actual size of the color table, raise 2 to [the value of the field + 1].\n",
    "\n",
    "The size of global table is `(field_value + 1) * 2)` bytes, isn't it? So the maximum size for global palette is 16 bytes. Huh, 16 colors or 16 bytes to store color values?\n",
    "\n",
    "> Even if there is not Global Color Table specified, set this field according to the above formula so that decoders can choose the best graphics mode to display the stream in.\n",
    "\n",
    "How the size of the palette related to the graphics mode?"
   ]
  },
  {
   "cell_type": "code",
   "execution_count": 25,
   "metadata": {},
   "outputs": [
    {
     "data": {
      "text/plain": [
       "(6, '0b110')"
      ]
     },
     "execution_count": 25,
     "metadata": {},
     "output_type": "execute_result"
    }
   ],
   "source": [
    "global_color_table_size = (packed_field & 0b00000111) >> 0\n",
    "global_color_table_size, bin(global_color_table_size)"
   ]
  },
  {
   "cell_type": "code",
   "execution_count": 26,
   "metadata": {},
   "outputs": [
    {
     "data": {
      "text/plain": [
       "384"
      ]
     },
     "execution_count": 26,
     "metadata": {},
     "output_type": "execute_result"
    }
   ],
   "source": [
    "global_palette_num_bytes = 3 * (2**(global_color_table_size+1))\n",
    "global_palette_num_bytes"
   ]
  },
  {
   "cell_type": "markdown",
   "metadata": {},
   "source": [
    "# Global palette (if the flag is set)"
   ]
  },
  {
   "cell_type": "code",
   "execution_count": 27,
   "metadata": {},
   "outputs": [
    {
     "data": {
      "text/plain": [
       "384"
      ]
     },
     "execution_count": 27,
     "metadata": {},
     "output_type": "execute_result"
    }
   ],
   "source": [
    "global_palette_data = file_obj.read(global_palette_num_bytes)\n",
    "len(global_palette_data)"
   ]
  },
  {
   "cell_type": "code",
   "execution_count": 28,
   "metadata": {},
   "outputs": [
    {
     "data": {
      "text/plain": [
       "35"
      ]
     },
     "execution_count": 28,
     "metadata": {},
     "output_type": "execute_result"
    }
   ],
   "source": [
    "global_palette_data[0]"
   ]
  },
  {
   "cell_type": "code",
   "execution_count": 29,
   "metadata": {},
   "outputs": [
    {
     "data": {
      "text/plain": [
       "128"
      ]
     },
     "execution_count": 29,
     "metadata": {},
     "output_type": "execute_result"
    }
   ],
   "source": [
    "global_palette = [[*global_palette_data[i:i+3]] for i in range(0, len(global_palette_data), 3)]\n",
    "len(global_palette)"
   ]
  },
  {
   "cell_type": "code",
   "execution_count": 30,
   "metadata": {},
   "outputs": [
    {
     "data": {
      "text/plain": [
       "[[35, 33, 35],\n",
       " [53, 43, 42],\n",
       " [39, 51, 63],\n",
       " [61, 55, 58],\n",
       " [85, 58, 53],\n",
       " [27, 55, 85],\n",
       " [39, 57, 80],\n",
       " [59, 67, 79],\n",
       " [56, 72, 95],\n",
       " [28, 66, 105],\n",
       " [40, 69, 100],\n",
       " [62, 81, 102],\n",
       " [42, 81, 121],\n",
       " [56, 84, 120],\n",
       " [83, 68, 67],\n",
       " [83, 79, 80],\n",
       " [104, 69, 65],\n",
       " [110, 79, 71],\n",
       " [125, 83, 76],\n",
       " [101, 85, 87],\n",
       " [127, 92, 82],\n",
       " [80, 84, 97],\n",
       " [90, 93, 103],\n",
       " [71, 93, 112],\n",
       " [90, 100, 111],\n",
       " [95, 108, 115],\n",
       " [86, 101, 126],\n",
       " [111, 98, 100],\n",
       " [113, 109, 112],\n",
       " [109, 113, 126],\n",
       " [129, 106, 102],\n",
       " [154, 106, 98],\n",
       " [144, 119, 110],\n",
       " [128, 119, 122],\n",
       " [143, 123, 127],\n",
       " [164, 121, 114],\n",
       " [153, 161, 4],\n",
       " [164, 172, 4],\n",
       " [196, 198, 4],\n",
       " [236, 234, 4],\n",
       " [189, 128, 122],\n",
       " [211, 132, 124],\n",
       " [51, 92, 134],\n",
       " [63, 104, 150],\n",
       " [48, 101, 161],\n",
       " [49, 109, 170],\n",
       " [57, 121, 179],\n",
       " [67, 97, 131],\n",
       " [74, 107, 137],\n",
       " [89, 111, 134],\n",
       " [71, 112, 155],\n",
       " [90, 123, 158],\n",
       " [96, 120, 137],\n",
       " [112, 124, 133],\n",
       " [75, 121, 167],\n",
       " [110, 129, 150],\n",
       " [112, 137, 156],\n",
       " [76, 129, 189],\n",
       " [86, 128, 178],\n",
       " [99, 135, 163],\n",
       " [110, 141, 174],\n",
       " [125, 148, 168],\n",
       " [76, 135, 194],\n",
       " [86, 140, 198],\n",
       " [94, 147, 195],\n",
       " [83, 146, 203],\n",
       " [94, 148, 205],\n",
       " [120, 158, 195],\n",
       " [127, 169, 207],\n",
       " [108, 163, 214],\n",
       " [122, 173, 224],\n",
       " [145, 136, 136],\n",
       " [128, 136, 145],\n",
       " [144, 152, 156],\n",
       " [161, 135, 128],\n",
       " [163, 139, 143],\n",
       " [189, 139, 135],\n",
       " [174, 151, 144],\n",
       " [176, 152, 157],\n",
       " [189, 156, 158],\n",
       " [129, 159, 179],\n",
       " [147, 161, 164],\n",
       " [155, 169, 172],\n",
       " [168, 168, 171],\n",
       " [165, 176, 180],\n",
       " [171, 183, 186],\n",
       " [217, 151, 141],\n",
       " [195, 149, 148],\n",
       " [230, 155, 144],\n",
       " [226, 166, 155],\n",
       " [236, 165, 155],\n",
       " [195, 166, 163],\n",
       " [199, 177, 166],\n",
       " [203, 179, 186],\n",
       " [213, 184, 191],\n",
       " [221, 191, 189],\n",
       " [225, 183, 164],\n",
       " [243, 176, 160],\n",
       " [248, 185, 169],\n",
       " [247, 193, 175],\n",
       " [250, 204, 188],\n",
       " [132, 161, 192],\n",
       " [146, 173, 196],\n",
       " [141, 177, 215],\n",
       " [149, 185, 217],\n",
       " [134, 186, 231],\n",
       " [179, 192, 196],\n",
       " [190, 197, 200],\n",
       " [140, 192, 236],\n",
       " [148, 194, 238],\n",
       " [148, 198, 240],\n",
       " [180, 206, 224],\n",
       " [172, 210, 243],\n",
       " [176, 215, 240],\n",
       " [185, 224, 250],\n",
       " [194, 206, 211],\n",
       " [216, 212, 217],\n",
       " [225, 206, 198],\n",
       " [250, 212, 197],\n",
       " [252, 224, 211],\n",
       " [252, 230, 212],\n",
       " [193, 214, 227],\n",
       " [217, 223, 226],\n",
       " [203, 225, 229],\n",
       " [221, 235, 238],\n",
       " [226, 244, 245],\n",
       " [240, 241, 243],\n",
       " [246, 251, 251]]"
      ]
     },
     "execution_count": 30,
     "metadata": {},
     "output_type": "execute_result"
    }
   ],
   "source": [
    "global_palette"
   ]
  },
  {
   "cell_type": "code",
   "execution_count": 31,
   "metadata": {},
   "outputs": [],
   "source": [
    "def show_palette(palette):\n",
    "    palette_width = 16\n",
    "    \n",
    "    image = []\n",
    "    row = []\n",
    "    for i, rgb in enumerate(palette):\n",
    "        row.append(rgb)\n",
    "        \n",
    "        if (i > 0) and ((i+1) % palette_width == 0):\n",
    "            image.append(row)\n",
    "            row = []\n",
    "#     print(image)\n",
    "#     print(len(image))\n",
    "    plt.imshow(image)\n",
    "    plt.show()"
   ]
  },
  {
   "cell_type": "code",
   "execution_count": 32,
   "metadata": {},
   "outputs": [
    {
     "data": {
      "image/png": "[encoded data removed]",
      "text/plain": [
       "<Figure size 432x288 with 1 Axes>"
      ]
     },
     "metadata": {
      "needs_background": "light"
     },
     "output_type": "display_data"
    }
   ],
   "source": [
    "show_palette(global_palette)"
   ]
  },
  {
   "cell_type": "markdown",
   "metadata": {},
   "source": [
    "# Next is unknown block type"
   ]
  },
  {
   "cell_type": "markdown",
   "metadata": {},
   "source": [
    "Read the first byte to identify which type of block"
   ]
  },
  {
   "cell_type": "code",
   "execution_count": 33,
   "metadata": {},
   "outputs": [
    {
     "data": {
      "text/plain": [
       "(33, '0x21', '0b100001')"
      ]
     },
     "execution_count": 33,
     "metadata": {},
     "output_type": "execute_result"
    }
   ],
   "source": [
    "block_identifier = file_obj.read(1)[0]\n",
    "block_identifier, hex(block_identifier), bin(block_identifier)"
   ]
  },
  {
   "cell_type": "markdown",
   "metadata": {},
   "source": [
    "All extension blocks begin with `21`."
   ]
  },
  {
   "cell_type": "markdown",
   "metadata": {},
   "source": [
    "## Types of extension block\n",
    "\n",
    "| extension label (the next byte value) | block type |\n",
    "|---|---|\n",
    "| 0xFF | Application Extension |\n",
    "| 0x01 | Plain Text Extension |\n",
    "| 0xFE | Comment Extension |\n",
    "| 0xF9 | Graphic Control Extension |"
   ]
  },
  {
   "cell_type": "code",
   "execution_count": 34,
   "metadata": {},
   "outputs": [],
   "source": [
    "# GIF_TRAILER = 0x3b\n",
    "# GIF_EXTENSION_INTRODUCER = 0x21\n",
    "# GIF_IMAGE_SEPARATOR = 0x2c\n",
    "# GIF_GCE_EXT_LABEL = 0xf9\n",
    "# GIF_COM_EXT_LABEL = 0xfe\n",
    "# GFI_APP_EXT_LEBEL = 0xff\n",
    "\n",
    "# def process_gif_blocks(file_obj: io.BufferedReader):\n",
    "#     while True:\n",
    "#         block_type = file_obj.read(1)\n",
    "#         if len(block_type) == 0:\n",
    "#             # end of file\n",
    "#             break\n",
    "        \n",
    "#         block_type = block_type[0]"
   ]
  },
  {
   "cell_type": "code",
   "execution_count": 44,
   "metadata": {},
   "outputs": [
    {
     "data": {
      "text/plain": [
       "402"
      ]
     },
     "execution_count": 44,
     "metadata": {},
     "output_type": "execute_result"
    }
   ],
   "source": [
    "file_obj.tell()"
   ]
  },
  {
   "cell_type": "code",
   "execution_count": 43,
   "metadata": {},
   "outputs": [
    {
     "data": {
      "text/plain": [
       "(bytes, 1, b'\\n')"
      ]
     },
     "execution_count": 43,
     "metadata": {},
     "output_type": "execute_result"
    }
   ],
   "source": [
    "bs = file_obj.read(1)\n",
    "type(bs), len(bs), bs"
   ]
  },
  {
   "cell_type": "markdown",
   "metadata": {},
   "source": [
    "# Image Descriptor"
   ]
  },
  {
   "cell_type": "code",
   "execution_count": 37,
   "metadata": {},
   "outputs": [],
   "source": [
    "# image_descriptor = file_obj.read(1) # 10 bytes"
   ]
  },
  {
   "cell_type": "code",
   "execution_count": 38,
   "metadata": {},
   "outputs": [],
   "source": [
    "# image_separator = image_descriptor[0]\n",
    "# image_separator, hex(image_separator), bin(image_separator)"
   ]
  }
 ],
 "metadata": {
  "kernelspec": {
   "display_name": "Python 3",
   "language": "python",
   "name": "python3"
  },
  "language_info": {
   "codemirror_mode": {
    "name": "ipython",
    "version": 3
   },
   "file_extension": ".py",
   "mimetype": "text/x-python",
   "name": "python",
   "nbconvert_exporter": "python",
   "pygments_lexer": "ipython3",
   "version": "3.7.3"
  }
 },
 "nbformat": 4,
 "nbformat_minor": 2
}
